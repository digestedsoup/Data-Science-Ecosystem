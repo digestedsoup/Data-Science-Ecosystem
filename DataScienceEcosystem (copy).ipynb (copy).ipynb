{
  "metadata": {
    "kernelspec": {
      "name": "python",
      "display_name": "Python (Pyodide)",
      "language": "python"
    },
    "language_info": {
      "codemirror_mode": {
        "name": "python",
        "version": 3
      },
      "file_extension": ".py",
      "mimetype": "text/x-python",
      "name": "python",
      "nbconvert_exporter": "python",
      "pygments_lexer": "ipython3",
      "version": "3.8"
    }
  },
  "nbformat_minor": 5,
  "nbformat": 4,
  "cells": [
    {
      "id": "dd7eb949-98f2-4f8c-8f91-038c4e666734",
      "cell_type": "markdown",
      "source": "# Data Science Tools and Ecosystem",
      "metadata": {}
    },
    {
      "id": "ae6341e8-a4ea-43fd-81ac-aa19e39c5da4",
      "cell_type": "markdown",
      "source": "In this notebook, Data Science Tools and Ecosystem are summarized.\n",
      "metadata": {}
    },
    {
      "id": "931d8e0b-521e-4a61-9a02-8153056c01aa",
      "cell_type": "markdown",
      "source": "# **Objectives:**\n\n* List popular tools used in data science\n* List popular languages used in data science\n* List popular libraries used in data science",
      "metadata": {}
    },
    {
      "id": "2e8c422e-e7c7-4b34-9167-65fca1922f06",
      "cell_type": "markdown",
      "source": "# Some of the popular languages that Data Scientists use are:\n1. python\n2. R\n3. SQL\n4. Java",
      "metadata": {}
    },
    {
      "id": "ada45522-92b2-4d04-8526-16b8bff45940",
      "cell_type": "markdown",
      "source": "# Some of the commonly used libraries used by Data Scientists include:\n1. Pandas\n2. dplyr\n3. ggplot2",
      "metadata": {}
    },
    {
      "id": "7264e4f3-cd75-4378-9904-8b98ce2bae2b",
      "cell_type": "markdown",
      "source": "Data Science Tools\n|-------------|\n|Apache Spark |\n|Tensor Flow  |\n|Apache Hadoop|",
      "metadata": {}
    },
    {
      "id": "af476fc7-c1e0-47b5-bc0d-036c1936587b",
      "cell_type": "markdown",
      "source": "### Below are a few examples of evaluating arithmetic expressions in Python\n",
      "metadata": {}
    },
    {
      "id": "48587201-45c2-45df-97db-3a94904d0350",
      "cell_type": "code",
      "source": "# This a simple arithmetic expression to mutiply then add integers\n(3*4)+5\n",
      "metadata": {
        "trusted": true,
        "scrolled": true
      },
      "outputs": [
        {
          "execution_count": 1,
          "output_type": "execute_result",
          "data": {
            "text/plain": "17"
          },
          "metadata": {}
        }
      ],
      "execution_count": 1
    },
    {
      "id": "5398111a-e672-48a0-a202-7a2124c0be13",
      "cell_type": "code",
      "source": "# This will convert 200 minutes to hours by diving by 60\n200/60",
      "metadata": {
        "trusted": true
      },
      "outputs": [
        {
          "execution_count": 2,
          "output_type": "execute_result",
          "data": {
            "text/plain": "3.3333333333333335"
          },
          "metadata": {}
        }
      ],
      "execution_count": 2
    },
    {
      "id": "2e3b75b5-fb0f-4c86-8d57-bec26875a02a",
      "cell_type": "markdown",
      "source": "## Author\nMike Ballou",
      "metadata": {}
    }
  ]
}